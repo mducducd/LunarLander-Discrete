{
 "cells": [
  {
   "cell_type": "markdown",
   "metadata": {},
   "source": [
    "\n",
    "\n",
    "### 1. Import the Necessary Packages"
   ]
  },
  {
   "cell_type": "code",
   "execution_count": 1,
   "metadata": {},
   "outputs": [],
   "source": [
    "import torch\n",
    "import torch.nn as nn\n",
    "import torch.nn.functional as F\n",
    "import torch.optim as optim\n",
    "from collections import deque, namedtuple\n",
    "import numpy as np\n",
    "import random\n",
    "import copy\n",
    "import gym\n",
    "import matplotlib.pyplot as plt\n",
    "%matplotlib inline\n",
    "\n",
    "device = torch.device('cpu')"
   ]
  },
  {
   "cell_type": "markdown",
   "metadata": {},
   "source": [
    "### 2. Instantiate the Environment and Agent\n",
    "\n",
    "Initialize the environment in the code cell below."
   ]
  },
  {
   "cell_type": "code",
   "execution_count": 2,
   "metadata": {},
   "outputs": [],
   "source": [
    "env = gym.make('LunarLander-v2')"
   ]
  },
  {
   "cell_type": "code",
   "execution_count": 3,
   "metadata": {},
   "outputs": [
    {
     "data": {
      "text/plain": [
       "4"
      ]
     },
     "execution_count": 3,
     "metadata": {},
     "output_type": "execute_result"
    }
   ],
   "source": [
    "action_size = env.action_space.n\n",
    "action_size"
   ]
  },
  {
   "cell_type": "code",
   "execution_count": 4,
   "metadata": {},
   "outputs": [
    {
     "data": {
      "text/plain": [
       "(array([-inf, -inf, -inf, -inf, -inf, -inf, -inf, -inf], dtype=float32),\n",
       " array([inf, inf, inf, inf, inf, inf, inf, inf], dtype=float32),\n",
       " 8)"
      ]
     },
     "execution_count": 4,
     "metadata": {},
     "output_type": "execute_result"
    }
   ],
   "source": [
    "state_low = env.observation_space.low\n",
    "state_high = env.observation_space.high\n",
    "state_size = len(state_low)\n",
    "state_low, state_high, state_size"
   ]
  },
  {
   "cell_type": "markdown",
   "metadata": {},
   "source": [
    "### 3. Define hyperparameters\n",
    "\n",
    "These are **really** important, because small change in the parameter values can really \n",
    "affect the training time and efficency. \n",
    "My training was really affected by learning rate and number of nodes in the hidden layer. \n",
    "I first set up my LR = 0.01, - it trained fine at first but used to decline after the avg. \n",
    "rewards reach 150. So, I set up my LR = 0.0005 and it trained faster and efficently.\n",
    "\n",
    "Also, do not complicate the network. Increasing number of hidden layers and nodes surely\n",
    "might increase your training efficeny, but also take care of the time it will take to train.\n",
    "So, start with a simpler model with small number of hidden layer with small number of \n",
    "hidden nodes - it might just work for your need"
   ]
  },
  {
   "cell_type": "code",
   "execution_count": 5,
   "metadata": {},
   "outputs": [],
   "source": [
    "BUFFER_SIZE = int(1e5)\n",
    "BATCH_SIZE = 64\n",
    "GAMMA = 1.0\n",
    "UPDATE_EVERY = 4\n",
    "TAU = 1e-3\n",
    "LR = 5e-4"
   ]
  },
  {
   "cell_type": "markdown",
   "metadata": {},
   "source": [
    "### 4. Define Model\n",
    "\n",
    "Initialize the model - take care that I have not added an activation function in the output\n",
    "layer of the network, because we will use that to calculate our Q values in the end for \n",
    "our loss function."
   ]
  },
  {
   "cell_type": "code",
   "execution_count": 6,
   "metadata": {},
   "outputs": [],
   "source": [
    "class Model(nn.Module):\n",
    "    def __init__(self, state_size, action_size):\n",
    "        super(Model, self).__init__()\n",
    "        self.seed = torch.manual_seed(42)\n",
    "        \n",
    "        self.fc1 = nn.Linear(state_size, 64)\n",
    "        self.fc2 = nn.Linear(64, 64)\n",
    "        self.fc3 = nn.Linear(64, action_size)\n",
    "        \n",
    "    def forward(self, state):\n",
    "        \n",
    "        state = F.relu(self.fc1(state))\n",
    "        state = F.relu(self.fc2(state))\n",
    "        \n",
    "        action_values = self.fc3(state)\n",
    "        \n",
    "        return action_values"
   ]
  },
  {
   "cell_type": "markdown",
   "metadata": {},
   "source": [
    "### 5. Instantiate ReplayBuffer\n",
    "\n",
    "A reply memory to sample the previous experiences taken out in random to learn and train \n",
    "our neural network."
   ]
  },
  {
   "cell_type": "code",
   "execution_count": 7,
   "metadata": {},
   "outputs": [],
   "source": [
    "class ReplayBuffer:\n",
    "    def __init__(self, buffer_size, action_size):\n",
    "        self.seed = random.seed(42)\n",
    "        self.action_size = action_size\n",
    "        self.memory = deque(maxlen=buffer_size)\n",
    "        self.experiences = namedtuple(\"Experiences\", field_names=[\"state\",\"action\",\"reward\",\"new_state\", \"done\"])\n",
    "        \n",
    "    def add(self, state, action, reward, new_state, done):\n",
    "        e = self.experiences(state, action, reward, new_state, done)\n",
    "        self.memory.append(e)\n",
    "        \n",
    "    def sample(self, batch_size):\n",
    "        experiences = random.sample(self.memory, k=batch_size)\n",
    "        \n",
    "        states = torch.from_numpy(np.vstack([e.state for e in experiences if e is not None])).float().to(device)\n",
    "        actions = torch.from_numpy(np.vstack([e.action for e in experiences if e is not None])).long().to(device)\n",
    "        rewards = torch.from_numpy(np.vstack([e.reward for e in experiences if e is not None])).float().to(device)\n",
    "        new_states = torch.from_numpy(np.vstack([e.new_state for e in experiences if e is not None])).float().to(device)\n",
    "        dones = torch.from_numpy(np.vstack([e.done for e in experiences if e is not None]).astype(np.uint8)).float().to(device)\n",
    "        \n",
    "        return states, actions, rewards, new_states, dones\n",
    "    \n",
    "    def __len__(self):\n",
    "        return len(self.memory)"
   ]
  },
  {
   "cell_type": "markdown",
   "metadata": {},
   "source": [
    "### 6. Initialize the Agent\n"
   ]
  },
  {
   "cell_type": "code",
   "execution_count": 8,
   "metadata": {},
   "outputs": [],
   "source": [
    "class DQNAgent:\n",
    "    def __init__(self, state_size, action_size):\n",
    "        \n",
    "        self.seed = random.seed(42)\n",
    "        self.action_size = action_size\n",
    "        \n",
    "        self.local_nn = Model(state_size, action_size).to(device)\n",
    "        self.target_nn = Model(state_size, action_size).to(device)\n",
    "        \n",
    "        self.optimizer = optim.Adam(self.local_nn.parameters(), lr=LR)\n",
    "        \n",
    "        self.memory = ReplayBuffer(BUFFER_SIZE, action_size)\n",
    "        \n",
    "        self.t_step = 0\n",
    "        \n",
    "        \n",
    "    def step(self, state, action, reward, new_state, done):\n",
    "        self.memory.add(state, action, reward, new_state, done)\n",
    "        \n",
    "        self.t_step = (self.t_step + 1) % UPDATE_EVERY\n",
    "        if self.t_step == 0:\n",
    "            if len(self.memory) > BATCH_SIZE:\n",
    "                experiences = self.memory.sample(BATCH_SIZE)\n",
    "                self.learn(experiences, GAMMA)\n",
    "                \n",
    "    def act(self, state, eps = 0.):\n",
    "        state = torch.from_numpy(state).float().unsqueeze(0).to(device)\n",
    "        self.local_nn.eval()\n",
    "        with torch.no_grad():\n",
    "            action_values = self.local_nn(state)\n",
    "        self.local_nn.train()\n",
    "        \n",
    "        if random.random() > eps:\n",
    "            return np.argmax(action_values.cpu().data.numpy())\n",
    "        else:\n",
    "            return random.choice(np.arange(self.action_size))\n",
    "        \n",
    "    def learn(self, experiences, gamma):\n",
    "        states, actions, rewards, new_states, dones = experiences\n",
    "        \n",
    "        Q_target = self.target_nn(new_states).detach().max(1)[0].unsqueeze(1)\n",
    "        Q_target_value = rewards + (gamma * Q_target * (1-dones))\n",
    "        \n",
    "        Q_exp = self.local_nn(states).gather(1, actions)\n",
    "        loss = F.mse_loss(Q_exp, Q_target_value)\n",
    "        self.optimizer.zero_grad()\n",
    "        loss.backward()\n",
    "        self.optimizer.step()\n",
    "        \n",
    "        self.soft_update(self.local_nn, self.target_nn, TAU)\n",
    "        \n",
    "    def soft_update(self, local_nn, target_nn, tau):\n",
    "        for local_nn_params, target_nn_params in zip(local_nn.parameters(), target_nn.parameters()):\n",
    "            target_nn_params.data.copy_(tau*local_nn_params.data + (1.0-tau)*target_nn_params.data)"
   ]
  },
  {
   "cell_type": "code",
   "execution_count": 9,
   "metadata": {},
   "outputs": [],
   "source": [
    "agent = DQNAgent(state_size, action_size)"
   ]
  },
  {
   "cell_type": "markdown",
   "metadata": {},
   "source": [
    "### 7. Train the Agent with DQN\n",
    "\n",
    "Run the code cell below to train the agent from scratch.  \n"
   ]
  },
  {
   "cell_type": "code",
   "execution_count": 10,
   "metadata": {},
   "outputs": [],
   "source": [
    "def dqn():\n",
    "    n_episodes = 5000\n",
    "    score_deque = deque(maxlen=100)\n",
    "    scores = []\n",
    "    eps = 1.0\n",
    "    decay = 0.995\n",
    "    min_eps = 0.005\n",
    "    \n",
    "    for i_episode in range(n_episodes):\n",
    "        state = env.reset()\n",
    "        done = False\n",
    "        score = 0\n",
    "        while not done:\n",
    "            action = agent.act(state, eps)\n",
    "            new_state, reward, done, _ = env.step(action)\n",
    "            agent.step(state, action, reward, new_state, done)\n",
    "            state = new_state\n",
    "            score += reward\n",
    "            if done:\n",
    "                break\n",
    "                \n",
    "        score_deque.append(score)\n",
    "        scores.append(score)\n",
    "        \n",
    "        eps = max(min_eps, eps*decay)\n",
    "        \n",
    "        print('\\rEpisode {}\\tAverage Score: {:.2f}'.format(i_episode, np.mean(score_deque)), end=\"\")\n",
    "        if i_episode % 100 == 0:\n",
    "            print('\\rEpisode {}\\tAverage Score: {:.2f}'.format(i_episode, np.mean(score_deque)))\n",
    "        if np.mean(score_deque)>=200.0:\n",
    "            print('\\nEnvironment solved in {:d} episodes!\\tAverage Score: {:.2f}'.format(i_episode-100, np.mean(score_deque)))\n",
    "            torch.save(agent.local_nn.state_dict(), 'checkpoint.pth')\n",
    "            break\n",
    "    return scores"
   ]
  },
  {
   "cell_type": "code",
   "execution_count": 11,
   "metadata": {},
   "outputs": [
    {
     "name": "stdout",
     "output_type": "stream",
     "text": [
      "Episode 0\tAverage Score: -96.11\n",
      "Episode 100\tAverage Score: -172.44\n",
      "Episode 200\tAverage Score: -152.08\n",
      "Episode 300\tAverage Score: -62.536\n",
      "Episode 400\tAverage Score: -20.71\n",
      "Episode 500\tAverage Score: 66.109\n",
      "Episode 600\tAverage Score: 164.87\n",
      "Episode 700\tAverage Score: 195.76\n",
      "Episode 710\tAverage Score: 201.16\n",
      "Environment solved in 610 episodes!\tAverage Score: 201.16\n"
     ]
    }
   ],
   "source": [
    "scores = dqn()"
   ]
  },
  {
   "cell_type": "code",
   "execution_count": 12,
   "metadata": {},
   "outputs": [
    {
     "data": {
      "image/png": "[encoded data removed]",
      "text/plain": [
       "<matplotlib.figure.Figure at 0x7fc6be716e48>"
      ]
     },
     "metadata": {
      "needs_background": "light"
     },
     "output_type": "display_data"
    }
   ],
   "source": [
    "fig = plt.figure()\n",
    "ax = fig.add_subplot(111)\n",
    "plt.plot(np.arange(len(scores)), scores)\n",
    "plt.ylabel('Score')\n",
    "plt.xlabel('Episode #')\n",
    "plt.show()"
   ]
  },
  {
   "cell_type": "markdown",
   "metadata": {},
   "source": [
    "### 8. Watch a Smart Agent\n",
    "\n",
    "Load the saved model weights from a pre-trained agent."
   ]
  },
  {
   "cell_type": "code",
   "execution_count": 13,
   "metadata": {},
   "outputs": [
    {
     "name": "stdout",
     "output_type": "stream",
     "text": [
      "240.97436401066008\n"
     ]
    }
   ],
   "source": [
    "state = env.reset()\n",
    "done = False\n",
    "score = 0 \n",
    "agent.local_nn.load_state_dict(torch.load('checkpoint.pth'))\n",
    "# agent.local_nn.eval(\n",
    "while not done:\n",
    "    env.render()\n",
    "    action = agent.act(state)\n",
    "    state, reward, done, _ = env.step(action)\n",
    "    score += reward\n",
    "    if done:\n",
    "        print(score)\n",
    "        break\n",
    "    "
   ]
  },
  {
   "cell_type": "code",
   "execution_count": 14,
   "metadata": {},
   "outputs": [],
   "source": [
    "env.close()"
   ]
  },
  {
   "cell_type": "code",
   "execution_count": null,
   "metadata": {},
   "outputs": [],
   "source": []
  }
 ],
 "metadata": {
  "kernelspec": {
   "display_name": "Python 3",
   "language": "python",
   "name": "python3"
  },
  "language_info": {
   "codemirror_mode": {
    "name": "ipython",
    "version": 3
   },
   "file_extension": ".py",
   "mimetype": "text/x-python",
   "name": "python",
   "nbconvert_exporter": "python",
   "pygments_lexer": "ipython3",
   "version": "3.6.9"
  }
 },
 "nbformat": 4,
 "nbformat_minor": 4
}
